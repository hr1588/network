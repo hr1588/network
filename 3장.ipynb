{
 "cells": [
  {
   "cell_type": "markdown",
   "metadata": {},
   "source": [
    "### 친구 역설"
   ]
  },
  {
   "cell_type": "code",
   "execution_count": 3,
   "metadata": {},
   "outputs": [],
   "source": [
    "import networkx as nx\n",
    "import matplotlib.pyplot as plt"
   ]
  },
  {
   "cell_type": "markdown",
   "metadata": {},
   "source": [
    "#### 한글 폰트 불러오기"
   ]
  },
  {
   "cell_type": "code",
   "execution_count": 15,
   "metadata": {},
   "outputs": [],
   "source": [
    "from matplotlib import font_manager, rc\n",
    "\n",
    "font_path = \"C:/Windows/Fonts/malgun.ttf\"\n",
    "font = font_manager.FontProperties(fname = font_path).get_name()\n",
    "rc('font', family = font)\n",
    "plt.rcParams['axes.unicode_minus'] = False"
   ]
  },
  {
   "cell_type": "markdown",
   "metadata": {},
   "source": [
    "#### 그래프 제작"
   ]
  },
  {
   "cell_type": "code",
   "execution_count": 31,
   "metadata": {},
   "outputs": [
    {
     "data": {
      "image/png": "[encoded data removed]",
      "text/plain": [
       "<Figure size 432x288 with 1 Axes>"
      ]
     },
     "metadata": {},
     "output_type": "display_data"
    }
   ],
   "source": [
    "a = nx.Graph()\n",
    "\n",
    "a.add_edges_from([('메리','낸시'),\n",
    "                  ('낸시','톰'),('낸시','밥'),\n",
    "                  ('톰','존'),('톰','팸'),('톰','밥'),\n",
    "                  ('존','팸'),\n",
    "                  ('밥','타라')])\n",
    "\n",
    "fix = {\"메리\":[0,1],\n",
    "       \"낸시\":[0.5,1],\n",
    "       \"톰\":[0.5,0.5],\n",
    "       \"타라\":[1,1],\n",
    "       \"존\":[0,0.5],\n",
    "       \"팸\":[0.5,0],\n",
    "       \"밥\":[1,0.5]}\n",
    "\n",
    "options = {\"node_color\":\"blue\", \"node_size\":2000}\n",
    "\n",
    "nx.draw_networkx_nodes(a, pos = fix, node_size=2000, node_color = 'red')\n",
    "nx.draw_networkx_nodes(a, pos = fix, nodelist=['톰'], **options)\n",
    "\n",
    "nx.draw_networkx_labels(a, pos = fix, font_family = font, font_size=18, font_color = 'white')\n",
    "\n",
    "nx.draw_networkx_edges(a, pos = fix, width = 3)\n",
    "\n",
    "\n",
    "ax = plt.gca()\n",
    "ax.margins(0.08)\n",
    "plt.tight_layout()\n",
    "plt.show()"
   ]
  },
  {
   "cell_type": "code",
   "execution_count": 46,
   "metadata": {},
   "outputs": [
    {
     "data": {
      "text/plain": [
       "2.83"
      ]
     },
     "execution_count": 46,
     "metadata": {},
     "output_type": "execute_result"
    }
   ],
   "source": [
    "import numpy as np\n",
    "\n",
    "round(np.mean(list(nx.average_neighbor_degree(a).values())),2)"
   ]
  },
  {
   "cell_type": "code",
   "execution_count": 63,
   "metadata": {},
   "outputs": [
    {
     "data": {
      "text/plain": [
       "2.29"
      ]
     },
     "execution_count": 63,
     "metadata": {},
     "output_type": "execute_result"
    }
   ],
   "source": [
    "val = []\n",
    "\n",
    "for i in range(len(list(nx.degree(a)))):\n",
    "    val.append(list(nx.degree(a))[i][1])\n",
    "round(np.mean(val),2)"
   ]
  }
 ],
 "metadata": {
  "kernelspec": {
   "display_name": "Python 3.9.12 ('base')",
   "language": "python",
   "name": "python3"
  },
  "language_info": {
   "codemirror_mode": {
    "name": "ipython",
    "version": 3
   },
   "file_extension": ".py",
   "mimetype": "text/x-python",
   "name": "python",
   "nbconvert_exporter": "python",
   "pygments_lexer": "ipython3",
   "version": "3.9.12"
  },
  "orig_nbformat": 4,
  "vscode": {
   "interpreter": {
    "hash": "43af7393c8e3bb0730eb35f197fc5ab4355397fc73467075a0f020e747dbc619"
   }
  }
 },
 "nbformat": 4,
 "nbformat_minor": 2
}
