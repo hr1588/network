{
 "cells": [
  {
   "cell_type": "markdown",
   "metadata": {},
   "source": [
    "### 위키백과 크롤링"
   ]
  },
  {
   "cell_type": "code",
   "execution_count": 1,
   "metadata": {},
   "outputs": [
    {
     "name": "stdout",
     "output_type": "stream",
     "text": [
      "['https://en.wikipedia.org/wiki/Cascading_failure', 'https://en.wikipedia.org/wiki/Climate_as_complex_networks', 'https://en.wikipedia.org/wiki/Collaborative_innovation_network', 'https://en.wikipedia.org/wiki/Communicative_ecology', 'https://en.wikipedia.org/wiki/Complex_network', 'https://en.wikipedia.org/wiki/Core-periphery_structure', 'https://en.wikipedia.org/wiki/Dual-phase_evolution', 'https://en.wikipedia.org/wiki/Erd%C5%91s%E2%80%93R%C3%A9nyi_model', 'https://en.wikipedia.org/wiki/Glossary_of_graph_theory', 'https://en.wikipedia.org/wiki/Gradient_network', 'https://en.wikipedia.org/wiki/Higher_category_theory', 'https://en.wikipedia.org/wiki/Immune_network_theory', 'https://en.wikipedia.org/wiki/Irregular_warfare', 'https://en.wikipedia.org/wiki/Interdependent_networks', 'https://en.wikipedia.org/wiki/Network_management', 'https://en.wikipedia.org/wiki/Network_dynamics', 'https://en.wikipedia.org/wiki/Network_formation', 'https://en.wikipedia.org/wiki/Network_theory_in_risk_assessment', 'https://en.wikipedia.org/wiki/Network_topology', 'https://en.wikipedia.org/wiki/Networks_in_labor_economics', 'https://en.wikipedia.org/wiki/Non-linear_preferential_attachment', 'https://en.wikipedia.org/wiki/Percolation', 'https://en.wikipedia.org/wiki/Percolation_theory', 'https://en.wikipedia.org/wiki/Policy_network_analysis', 'https://en.wikipedia.org/wiki/Polytely', 'https://en.wikipedia.org/wiki/Quantum_complex_network', 'https://en.wikipedia.org/wiki/Random_networks', 'https://en.wikipedia.org/wiki/Rumor_spread_in_social_network', 'https://en.wikipedia.org/wiki/Scale-free_networks', 'https://en.wikipedia.org/wiki/Sequential_dynamical_system', 'https://en.wikipedia.org/wiki/Service_network', 'https://en.wikipedia.org/wiki/Small-world_networks', 'https://en.wikipedia.org/wiki/Structural_cut-off', 'https://en.wikipedia.org/wiki/Systems_theory']\n"
     ]
    }
   ],
   "source": [
    "import urllib.request\n",
    "from bs4 import BeautifulSoup\n",
    "import requests\n",
    "\n",
    "pages = []\n",
    "\n",
    "url = \"https://en.wikipedia.org/wiki/Network_science\"\n",
    "req = urllib.request.Request(url)\n",
    "sourcecode = urllib.request.urlopen(url).read()\n",
    "soup = BeautifulSoup(sourcecode, \"html.parser\")\n",
    "\n",
    "for href in soup.find(\"div\", class_ =\"div-col\").find_all(\"li\"):\n",
    "    pages.append(\"https://en.wikipedia.org\"+href.find(\"a\")[\"href\"])\n",
    "\n",
    "print(pages)"
   ]
  },
  {
   "cell_type": "code",
   "execution_count": 2,
   "metadata": {},
   "outputs": [],
   "source": [
    "def get_html(url):\n",
    "    html = \"\"\n",
    "    resp = requests.get(url)\n",
    "    \n",
    "    if resp.status_code == 200:\n",
    "        html = resp.text\n",
    "    return html"
   ]
  },
  {
   "cell_type": "code",
   "execution_count": 3,
   "metadata": {},
   "outputs": [],
   "source": [
    "import re\n",
    "\n",
    "def crawl_div_col(html):\n",
    "    \n",
    "    soup = BeautifulSoup(html)\n",
    "    \n",
    "    li_list = soup.select(\"div.div-col > ul > li > a\")\n",
    "    text = re.sub('<.+?>', '', str(li_list), 0).strip()\n",
    "    \n",
    "    return text"
   ]
  },
  {
   "cell_type": "code",
   "execution_count": 4,
   "metadata": {},
   "outputs": [],
   "source": [
    "def crawl_mw_parser_output(html):\n",
    "    \n",
    "    soup = BeautifulSoup(html)\n",
    "    \n",
    "    li_list = soup.select(\"div.mw-parser-output > ul > li > a\")\n",
    "    text = re.sub('<.+?>', '', str(li_list), 0).strip()\n",
    "    \n",
    "    return text"
   ]
  },
  {
   "cell_type": "code",
   "execution_count": 5,
   "metadata": {},
   "outputs": [],
   "source": [
    "div_col = []\n",
    "\n",
    "for i in range(0, len(pages)-1):\n",
    "    html = get_html(pages[i])\n",
    "    div_col.append(crawl_div_col(html))"
   ]
  },
  {
   "cell_type": "code",
   "execution_count": 6,
   "metadata": {},
   "outputs": [
    {
     "name": "stdout",
     "output_type": "stream",
     "text": [
      "['[Blackouts, Brittle system, Butterfly effect, Byzantine failure, Cascading rollback, Chain reaction, Chaos theory, Cache stampede, Congestion collapse, Domino effect, For Want of a Nail (proverb), Network science, Network theory, Interdependent networks, Kessler Syndrome, Percolation theory, Progressive collapse, Virtuous circle and vicious circle, Wicked problem]', '[]', '[]', '[]', '[Community structure, Complex adaptive system, Complex systems, Dual-phase evolution, Dynamic network analysis, Interdependent networks, Network theory, Network science, Percolation theory, Random graph, Random graph theory of gelation, Scale-free networks, Small world networks, Spatial network, Trophic coherence]', '[]', '[]', '[]', '[]', '[]', '[]', '[]', '[Civilian casualty ratio, Endemic warfare, Fourth-generation warfare, Hague Conventions (1899 and 1907), Information warfare, Irregular military, Low-intensity conflict, Political warfare, Psychological operations, The Troubles, War on Terror, War on Drugs]', '[]', '[Application service management, Business service management, Capacity management, Comparison of network monitoring systems, FCAPS, In-network management, ITIL, Integrated business planning, Network and service management taxonomy, Network monitoring, Network traffic measurement, Out-of-band management, Systems management, Website monitoring]', '[Biological network inference, Cellular neural network, Dual-phase evolution, Dynamic Bayesian network, Dynamic network analysis, Dynamic single-frequency networks, Gaussian network model, Gene regulatory network, Gradient network, Network planning and design, Neural network, Neurodynamics, Small-world network, Technology Dynamics]', '[]', '[]', '[Broadcast communication network, Butterfly network, Computer network diagram, Gradient network, Internet topology, Network simulation, Relay network, Rhizome (philosophy), Scale-free network, Shared mesh, Switched communication network, Switched mesh]', '[]', '[]', '[Branched polymer, Conductance, Critical exponents, Fragmentation, Gelation, Giant component, Groundwater recharge, Immunization, Network theory, Percolation critical exponents, Percolation theory, Percolation threshold, Polymerization, Self-organization, Self-organized criticality, Septic tank, Supercooled water, Water pipe percolator]', '[Continuum percolation theory, Critical exponent, Directed percolation, Erdős–Rényi model, Fractal, Giant component, Graph theory, Interdependent networks, Invasion percolation, Kahn–Kalai conjecture, Network theory, Network science, Percolation threshold, Percolation critical exponents, Scale-free network, Shortest path problem]', '[]', '[Cognitive science, Concurrent computing, Dietrich Dörner, Game theory, Goal-oriented, Multi-agent system, Multi-criteria decision analysis, Multiobjective optimization, Network science, Organizational studies, Outcome (game theory), Polycentric law, Polychotomy, Problem solving, Systems theory, Telos]', '[]', '[]', '[]', '[]', '[]', '[]', '[]', '[]']\n"
     ]
    }
   ],
   "source": [
    "print(div_col) # div.div-col에 해당되는 데이터만 가져와진다."
   ]
  },
  {
   "cell_type": "code",
   "execution_count": 7,
   "metadata": {},
   "outputs": [],
   "source": [
    "mw_parser_output = []\n",
    "\n",
    "for i in range(0, len(pages)-1):\n",
    "    html = get_html(pages[i])\n",
    "    mw_parser_output.append(crawl_mw_parser_output(html))"
   ]
  },
  {
   "cell_type": "code",
   "execution_count": 8,
   "metadata": {},
   "outputs": [
    {
     "data": {
      "text/plain": [
       "['[Blackout in Northeast America in 1965, Blackout in Southern Brazil in 1999, Blackout in Northeast America in 2003, Blackout in Italy in 2003, Blackout in London in 2003, European Blackout in 2006, Blackout in Northern India in 2012, Blackout in South Australia in 2016, Blackout in southeast South America in 2019, Space Weather: Blackout — Massive Power Grid Failure, Cascading failure demo applet, Cascade-based attacks on complex networks,, Model for cascading failures in complex networks,, Protection Strategies for Cascading Grid Failures — A Shortcut Approach, preprint, Nova: Crash of Flight 111, Swissair Flight 111, Accident grounds neutrino lab, The Structure and Dynamics of Large Scale Organizational Networks (Dan Braha, New England Complex Systems Institute), From Single Network to Network of Networks]',\n",
       " '[Community structure, Network theory, Network science, Teleconnection, Climatology]',\n",
       " '[Collective intelligence, Polytely, Swarm intelligence, Open politics, Symbolic interactionism, Commons-based peer production, Community of practice, ISBN, 0-19-530412-8, ISBN, 0-8144-7386-5, Geographical proximity and innovation: Evidences from the Campos Basin oil &amp; gas industrial agglomeration — Brazil, artivate.hida.asu.edu/index.php/artivate/article/download/82/36, fido (\\'fearless innovation designed online\\') - collaborative innovation system, Ethical Issues in Collaborative Innovation Networks, Fillia Makedon, \"Advances in Interdisciplinary Studies of Work Teams\", \"Transforming Government Through Collaborative Innovation\", \"The Future of Work\", \"Global University System with Globally Collaborative Innovation Network\", \"Network Plasticity and Collaborative Innovation\", \"Performance Based Integrated Innovation Management System\" proposal]',\n",
       " \"[ethnographic action research, (Tacchi, Hearn &amp; Ninan, 2004, Tacchi et al., 2003), (Tacchi et al., 2007), participatory action research, (Reason &amp; Bradbury, 2001), participatory design, (Greenbaum &amp; King, 1991, Schuler &amp; Namioka, 1993), (Foth, 2006), participant observation, focus groups, content analysis, concept mapping, Networked individualism of urban residents: Discovering the communicative ecology in inner-city apartment buildings, Communicative ecologies: Editorial preface, Ethnographic monitoring and evaluation of community multimedia centres: A study of Kothmale community radio internet project, Sri Lanka, Studying communicative ecologies: An ethnographic approach to information and communication technologies, Ethnographic action research: A user's handbook]\",\n",
       " '[ISBN, 978-0134786995, ISBN, 0-19-851590-1, ISBN, 0-393-04142-5, ISBN, 0-691-11704-7, ISBN, 0-452-28439-2, ISBN, 978-0-521-87950-7, ISBN, 3-527-40336-1, ISBN, 978-0-19-921151-7, ISBN, 978-0-19-958807-7, ISBN, 978-0-199-59175-6, ISBN, 978-0-19-920665-0, ISBN, 978-0-691-11357-9, ISBN, 0-521-82698-5, ISBN, 978-0-8176-4750-6, ISBN, 978-1107103184, The structure and function of complex networks, https://arxiv.org/abs/cond-mat/0009178]',\n",
       " '[Core countries, Semi-periphery countries, Periphery countries, Degeneracy (graph theory)]',\n",
       " '[]',\n",
       " '[giant component, Rado graph, countably infinite, probability\\xa01, Dual-phase evolution, Exponential random graph models, Stochastic block model, Watts–Strogatz model, Barabási–Albert model, Video: Erdos-Renyi Random Graph]',\n",
       " '[List of graph theory topics, Gallery of named graphs, Graph algorithms, Glossary of areas of mathematics]',\n",
       " '[Network dynamics, Network topology, Quantum complex network]',\n",
       " \"[set, enriched, Higher-dimensional algebra, General abstract nonsense, Categorification, Coherency (homotopy theory), Alternative PDF with hyperlinks, PDF, nLab, Joyal's Catlab, The n-Category Cafe]\",\n",
       " '[]',\n",
       " '[state, legitimacy, population, Afghan Civil War, Algerian War, American Indian Wars, American Revolutionary War, Arab Revolt, Chinese Civil War, Cuban Revolution, First Chechen War, First Sudanese Civil War, Iraq War, Kosovo War, Lebanese Civil War, Portuguese Colonial War, Rwanda Civil War, Second Boer War, Second Chechen War, Second Sudanese Civil War, Somali Civil War, Philippine-American War, The Troubles, Vietnam War, Libyan Civil War (2011), Syrian Civil War, Iraqi Civil War (2014–2017), Second Libyan Civil War, Yemeni Civil War (2015–present), Asymmetric warfare, Civil-military operations, Colonial war, Foreign internal defense, Guerrilla warfare, Insurgency, Counter-insurgency, Law enforcement, Military Intelligence, counter-intelligence, Stabilization, Security, Transition, and Reconstruction Operations, Terrorism, Counter-terrorism, Transnational, criminal activities, Unconventional warfare, Counter-insurgency, Counter-terrorism, Unconventional warfare, Foreign internal defense, Che Guevara, François Géré, John R. M. Taylor, T. E. Lawrence, Robert Rogers\\' 28 \"Rules of Ranging\", [11], The Washington Post, [12], Maxwell Air Force Base, [13], [14], National Defense University, [15], Naval Postgraduate School, Center on Terrorism and Irregular Warfare, [16], United States Joint Forces Command, USJFCOM, [17], Richard H. Shultz, Jr., Roy Godson, [18], Irregular Warfare: Annotated Bibliography., United States Army Special Operations Command]',\n",
       " '[as a network, Cascading failure, 2003 Italy blackout, Complex networks, Network science, Percolation theory]',\n",
       " '[Network Management, Curlie, Internet Network Management, Curlie, Network Monitoring and Management Tools, Software-Defined Network Management]',\n",
       " '[]',\n",
       " '[]',\n",
       " '[Criticality in Epidemic Models, foodwebs.org, ISBN, 978-0199206650, Causal Network]',\n",
       " '[home wiring, coaxial cable, power lines, printed circuit boards, SPI, EMC, bandwidth, RS-232, RS-422, RS-485, CAN, GPIB, SCSI, Ethernet, IEEE 802.3, crosstalk, electromagnetic induction, undersea communications cables, geostationary orbit, IEEE 802.11, Wi-Fi, line-of-sight propagation, IP over Avian Carriers, Request for Comments, Interplanetary Internet, USB, switches, node, Tetrahedron Core Network:]',\n",
       " '[]',\n",
       " '[]',\n",
       " '[perc test, leach field, Kesten, Harry, \"What is percolation?\", ISBN, 0-7484-0075-3, ISBN, 0-7484-0076-1, Grimmett, Geoffrey, ISBN, 9780748402533, \"Percolation and Conduction\", Remarkable properties of pawns on a hexboard, Bollobás, Béla, Riordan, Oliver, ISBN, 0521872324]',\n",
       " '[square lattice, Harry Kesten, Kesten (1982), Bethe lattice, coordination number, tree, tree-like, giant component, percolation threshold, generating function, excess degree distribution, Erdős–Rényi networks, clustering, on the order of, conformally invariant, Directed percolation, gravitational forces acting on the liquid, Broadbent &amp; Hammersley (1957), contact process, Fortuin–Kasteleyn random cluster model, Ising model, Potts models, complete graphs, random graph, Bootstrap percolation, First passage percolation, Invasion percolation, PercoVIS: a Mac OS X program to visualize percolation on networks in real time, Interactive Percolation, Nanohub online course on Percolation Theory]',\n",
       " '[Political Science, Political Economy, Advocacy Group, Rational Choice Theory, Issue networks, Network science]',\n",
       " '[Decision Making for Complex Socio-technical Systems, Dynamic systems as tools for analysing human judgement, Complex problem solving as a mediator between basic cognition and real-world functioning, Complex Problem Solving: Identity Matching Based on Social Contextual Information, A study of how individuals solve complex and ill-structured problems, The role of emotions in complex problem-solving, Problem solving: its origin, Complex Problem Solving]',\n",
       " '[Erdős–Rényi model, Gradient network, Network dynamics, Network topology, Quantum key distribution, Quantum teleportation, LOCC operations]',\n",
       " \"[Braess's paradox, Centrality, Ford–Fulkerson algorithm, Dinic's algorithm, Flow (computer networking), Flow graph (disambiguation), Max-flow min-cut theorem, Oriented matroid, Shortest path problem, Nowhere-zero flow, Maximum Flow Problem, Real graph instances, Lemon C++ library with several maximum flow and minimum cost circulation algorithms, QuickGraph]\",\n",
       " '[]',\n",
       " '[Social networks, the collaboration of movie actors in films, the co-authorship by mathematicians of papers, computer networks, internet, webgraph, World Wide Web, Protein–protein interaction, Semantic networks, Random graph, Erdős–Rényi model, Non-linear preferential attachment, Bose–Einstein condensation (network theory), Scale invariance, Complex network, Webgraph, Barabási–Albert model, Bianconi–Barabási model, Scale-Free Networks\", Scale-Free Networks and Terrorism]',\n",
       " '[Graph dynamical system, Boolean network, Gene regulatory network, Dynamic Bayesian network, Petri net, Predecessor and Permutation Existence Problems for Sequential Dynamical Systems, Genetic Sequential Dynamical Systems]',\n",
       " '[service science, management and engineering, Enterprise 2.0, Service system, http://www.wikiservice.at/upload/ChristopheDucamp/McAfeeEntrepriseDeux.pdf, [1], [2], [3], http://www.serviceinnovation.org/included/docs/library/programs/ao_opmodel_v1.4.pdf, IBM SSME Website, The Information and Service Design Program (service research and instructional program), Center for Service Systems Research]',\n",
       " \"[Barabási–Albert model, Climate as complex networks, Dual-phase evolution, Dunbar's number, Erdős number, Erdős–Rényi (ER) model, Percolation theory, Network science, Scale-free network, Six degrees of Kevin Bacon, Small-world experiment, Social network, Watts–Strogatz model, Network on a chip, systems on chip, Zachary's karate club, Dynamic Proximity Networks, The Wolfram Demonstrations Project, Small-World Networks]\",\n",
       " '[Assortativity, Degree distribution, Complex network, Rich-club coefficient]']"
      ]
     },
     "execution_count": 8,
     "metadata": {},
     "output_type": "execute_result"
    }
   ],
   "source": [
    "mw_parser_output"
   ]
  },
  {
   "cell_type": "markdown",
   "metadata": {},
   "source": [
    "### 에고 노드의 이웃"
   ]
  },
  {
   "cell_type": "code",
   "execution_count": 1,
   "metadata": {},
   "outputs": [],
   "source": [
    "from urllib.request import urlopen\n",
    "from bs4 import BeautifulSoup\n",
    "\n",
    "html = urlopen(\"https://en.wikipedia.org/wiki/Network_science\")\n",
    "bsobject = BeautifulSoup(html, \"html.parser\") # html 정보 가져오기"
   ]
  },
  {
   "cell_type": "code",
   "execution_count": 2,
   "metadata": {},
   "outputs": [
    {
     "name": "stdout",
     "output_type": "stream",
     "text": [
      "['Cascading failure', 'Climate as complex networks', 'Collaborative innovation network', 'Communicative ecology', 'Complex network', 'Core-periphery structures in networks', 'Dual-phase evolution', 'Erdős–Rényi model', 'Glossary of graph theory', 'Gradient network', 'Higher category theory', 'Immune network theory', 'Irregular warfare', 'Interdependent networks', 'Network analyzer', 'Network dynamics', 'Network formation', 'Network theory in risk assessment', 'Network topology', 'Networks in labor economics', 'Non-linear preferential attachment', 'Percolation', 'Percolation theory', 'Policy network analysis', 'Polytely', 'Quantum complex network', 'Random networks', 'Rumor spread in social network', 'Scale-free networks', 'Sequential dynamical system', 'Service network', 'Small-world networks', 'Structural cut-off']\n"
     ]
    }
   ],
   "source": [
    "li_code = bsobject.select('div.div-col>ul>li')\n",
    "\n",
    "ulli_total = []\n",
    "\n",
    "for c in range(0,len(li_code)-1):\n",
    "    ulli_total.append(li_code[c].get_text())\n",
    "\n",
    "print(ulli_total)"
   ]
  },
  {
   "cell_type": "markdown",
   "metadata": {},
   "source": [
    "### 결합"
   ]
  },
  {
   "cell_type": "code",
   "execution_count": 3,
   "metadata": {},
   "outputs": [],
   "source": [
    "import pandas as pd\n",
    "import numpy as np"
   ]
  },
  {
   "cell_type": "code",
   "execution_count": 4,
   "metadata": {},
   "outputs": [
    {
     "data": {
      "text/html": [
       "<div>\n",
       "<style scoped>\n",
       "    .dataframe tbody tr th:only-of-type {\n",
       "        vertical-align: middle;\n",
       "    }\n",
       "\n",
       "    .dataframe tbody tr th {\n",
       "        vertical-align: top;\n",
       "    }\n",
       "\n",
       "    .dataframe thead th {\n",
       "        text-align: right;\n",
       "    }\n",
       "</style>\n",
       "<table border=\"1\" class=\"dataframe\">\n",
       "  <thead>\n",
       "    <tr style=\"text-align: right;\">\n",
       "      <th></th>\n",
       "      <th>core</th>\n",
       "      <th>neighbor</th>\n",
       "    </tr>\n",
       "  </thead>\n",
       "  <tbody>\n",
       "    <tr>\n",
       "      <th>0</th>\n",
       "      <td>Network Science</td>\n",
       "      <td>Cascading failure</td>\n",
       "    </tr>\n",
       "    <tr>\n",
       "      <th>1</th>\n",
       "      <td>Network Science</td>\n",
       "      <td>Climate as complex networks</td>\n",
       "    </tr>\n",
       "    <tr>\n",
       "      <th>2</th>\n",
       "      <td>Network Science</td>\n",
       "      <td>Collaborative innovation network</td>\n",
       "    </tr>\n",
       "    <tr>\n",
       "      <th>3</th>\n",
       "      <td>Network Science</td>\n",
       "      <td>Communicative ecology</td>\n",
       "    </tr>\n",
       "    <tr>\n",
       "      <th>4</th>\n",
       "      <td>Network Science</td>\n",
       "      <td>Complex network</td>\n",
       "    </tr>\n",
       "    <tr>\n",
       "      <th>5</th>\n",
       "      <td>Network Science</td>\n",
       "      <td>Core-periphery structures in networks</td>\n",
       "    </tr>\n",
       "    <tr>\n",
       "      <th>6</th>\n",
       "      <td>Network Science</td>\n",
       "      <td>Dual-phase evolution</td>\n",
       "    </tr>\n",
       "    <tr>\n",
       "      <th>7</th>\n",
       "      <td>Network Science</td>\n",
       "      <td>Erdős–Rényi model</td>\n",
       "    </tr>\n",
       "    <tr>\n",
       "      <th>8</th>\n",
       "      <td>Network Science</td>\n",
       "      <td>Glossary of graph theory</td>\n",
       "    </tr>\n",
       "    <tr>\n",
       "      <th>9</th>\n",
       "      <td>Network Science</td>\n",
       "      <td>Gradient network</td>\n",
       "    </tr>\n",
       "    <tr>\n",
       "      <th>10</th>\n",
       "      <td>Network Science</td>\n",
       "      <td>Higher category theory</td>\n",
       "    </tr>\n",
       "    <tr>\n",
       "      <th>11</th>\n",
       "      <td>Network Science</td>\n",
       "      <td>Immune network theory</td>\n",
       "    </tr>\n",
       "    <tr>\n",
       "      <th>12</th>\n",
       "      <td>Network Science</td>\n",
       "      <td>Irregular warfare</td>\n",
       "    </tr>\n",
       "    <tr>\n",
       "      <th>13</th>\n",
       "      <td>Network Science</td>\n",
       "      <td>Interdependent networks</td>\n",
       "    </tr>\n",
       "    <tr>\n",
       "      <th>14</th>\n",
       "      <td>Network Science</td>\n",
       "      <td>Network analyzer</td>\n",
       "    </tr>\n",
       "    <tr>\n",
       "      <th>15</th>\n",
       "      <td>Network Science</td>\n",
       "      <td>Network dynamics</td>\n",
       "    </tr>\n",
       "    <tr>\n",
       "      <th>16</th>\n",
       "      <td>Network Science</td>\n",
       "      <td>Network formation</td>\n",
       "    </tr>\n",
       "    <tr>\n",
       "      <th>17</th>\n",
       "      <td>Network Science</td>\n",
       "      <td>Network theory in risk assessment</td>\n",
       "    </tr>\n",
       "    <tr>\n",
       "      <th>18</th>\n",
       "      <td>Network Science</td>\n",
       "      <td>Network topology</td>\n",
       "    </tr>\n",
       "    <tr>\n",
       "      <th>19</th>\n",
       "      <td>Network Science</td>\n",
       "      <td>Networks in labor economics</td>\n",
       "    </tr>\n",
       "    <tr>\n",
       "      <th>20</th>\n",
       "      <td>Network Science</td>\n",
       "      <td>Non-linear preferential attachment</td>\n",
       "    </tr>\n",
       "    <tr>\n",
       "      <th>21</th>\n",
       "      <td>Network Science</td>\n",
       "      <td>Percolation</td>\n",
       "    </tr>\n",
       "    <tr>\n",
       "      <th>22</th>\n",
       "      <td>Network Science</td>\n",
       "      <td>Percolation theory</td>\n",
       "    </tr>\n",
       "    <tr>\n",
       "      <th>23</th>\n",
       "      <td>Network Science</td>\n",
       "      <td>Policy network analysis</td>\n",
       "    </tr>\n",
       "    <tr>\n",
       "      <th>24</th>\n",
       "      <td>Network Science</td>\n",
       "      <td>Polytely</td>\n",
       "    </tr>\n",
       "    <tr>\n",
       "      <th>25</th>\n",
       "      <td>Network Science</td>\n",
       "      <td>Quantum complex network</td>\n",
       "    </tr>\n",
       "    <tr>\n",
       "      <th>26</th>\n",
       "      <td>Network Science</td>\n",
       "      <td>Random networks</td>\n",
       "    </tr>\n",
       "    <tr>\n",
       "      <th>27</th>\n",
       "      <td>Network Science</td>\n",
       "      <td>Rumor spread in social network</td>\n",
       "    </tr>\n",
       "    <tr>\n",
       "      <th>28</th>\n",
       "      <td>Network Science</td>\n",
       "      <td>Scale-free networks</td>\n",
       "    </tr>\n",
       "    <tr>\n",
       "      <th>29</th>\n",
       "      <td>Network Science</td>\n",
       "      <td>Sequential dynamical system</td>\n",
       "    </tr>\n",
       "    <tr>\n",
       "      <th>30</th>\n",
       "      <td>Network Science</td>\n",
       "      <td>Service network</td>\n",
       "    </tr>\n",
       "    <tr>\n",
       "      <th>31</th>\n",
       "      <td>Network Science</td>\n",
       "      <td>Small-world networks</td>\n",
       "    </tr>\n",
       "    <tr>\n",
       "      <th>32</th>\n",
       "      <td>Network Science</td>\n",
       "      <td>Structural cut-off</td>\n",
       "    </tr>\n",
       "  </tbody>\n",
       "</table>\n",
       "</div>"
      ],
      "text/plain": [
       "               core                               neighbor\n",
       "0   Network Science                      Cascading failure\n",
       "1   Network Science            Climate as complex networks\n",
       "2   Network Science       Collaborative innovation network\n",
       "3   Network Science                  Communicative ecology\n",
       "4   Network Science                        Complex network\n",
       "5   Network Science  Core-periphery structures in networks\n",
       "6   Network Science                   Dual-phase evolution\n",
       "7   Network Science                      Erdős–Rényi model\n",
       "8   Network Science               Glossary of graph theory\n",
       "9   Network Science                       Gradient network\n",
       "10  Network Science                 Higher category theory\n",
       "11  Network Science                  Immune network theory\n",
       "12  Network Science                      Irregular warfare\n",
       "13  Network Science                Interdependent networks\n",
       "14  Network Science                       Network analyzer\n",
       "15  Network Science                       Network dynamics\n",
       "16  Network Science                      Network formation\n",
       "17  Network Science      Network theory in risk assessment\n",
       "18  Network Science                       Network topology\n",
       "19  Network Science            Networks in labor economics\n",
       "20  Network Science     Non-linear preferential attachment\n",
       "21  Network Science                            Percolation\n",
       "22  Network Science                     Percolation theory\n",
       "23  Network Science                Policy network analysis\n",
       "24  Network Science                               Polytely\n",
       "25  Network Science                Quantum complex network\n",
       "26  Network Science                        Random networks\n",
       "27  Network Science         Rumor spread in social network\n",
       "28  Network Science                    Scale-free networks\n",
       "29  Network Science            Sequential dynamical system\n",
       "30  Network Science                        Service network\n",
       "31  Network Science                   Small-world networks\n",
       "32  Network Science                     Structural cut-off"
      ]
     },
     "execution_count": 4,
     "metadata": {},
     "output_type": "execute_result"
    }
   ],
   "source": [
    "df = pd.DataFrame(ulli_total, columns = ['neighbor'])\n",
    "df.insert(0,'core',np.nan)\n",
    "df = df.fillna('Network Science')\n",
    "df"
   ]
  },
  {
   "cell_type": "code",
   "execution_count": 5,
   "metadata": {},
   "outputs": [
    {
     "data": {
      "image/png": "[encoded data removed]",
      "text/plain": [
       "<Figure size 640x480 with 1 Axes>"
      ]
     },
     "metadata": {},
     "output_type": "display_data"
    }
   ],
   "source": [
    "import networkx as nx\n",
    "import matplotlib.pyplot as plt\n",
    "\n",
    "# Network Science의 그래프\n",
    "g = nx.from_pandas_edgelist(df,'core','neighbor', create_using=nx.DiGraph())\n",
    "\n",
    "ego = 'Network Science'\n",
    "pos = nx.spring_layout(g)\n",
    "\n",
    "options = {\"node_size\":3000, \"node_color\":\"r\"}\n",
    "nx.draw_networkx_nodes(g, pos, nodelist=[ego],**options) # ego 노드 크기와 색상 별도 설정\n",
    "\n",
    "nx.draw(g, pos, node_color = 'green', node_size = 800) \n",
    "plt.show()"
   ]
  }
 ],
 "metadata": {
  "kernelspec": {
   "display_name": "Python 3.9.13 ('base')",
   "language": "python",
   "name": "python3"
  },
  "language_info": {
   "codemirror_mode": {
    "name": "ipython",
    "version": 3
   },
   "file_extension": ".py",
   "mimetype": "text/x-python",
   "name": "python",
   "nbconvert_exporter": "python",
   "pygments_lexer": "ipython3",
   "version": "3.9.13"
  },
  "orig_nbformat": 4,
  "vscode": {
   "interpreter": {
    "hash": "43af7393c8e3bb0730eb35f197fc5ab4355397fc73467075a0f020e747dbc619"
   }
  }
 },
 "nbformat": 4,
 "nbformat_minor": 2
}
