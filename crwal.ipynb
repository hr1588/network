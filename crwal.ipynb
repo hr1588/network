{
 "cells": [
  {
   "cell_type": "markdown",
   "metadata": {},
   "source": [
    "### 위키백과 크롤링"
   ]
  },
  {
   "cell_type": "code",
   "execution_count": 97,
   "metadata": {},
   "outputs": [
    {
     "name": "stdout",
     "output_type": "stream",
     "text": [
      "['https://en.wikipedia.org/wiki/Cascading_failure', 'https://en.wikipedia.org/wiki/Climate_as_complex_networks', 'https://en.wikipedia.org/wiki/Collaborative_innovation_network', 'https://en.wikipedia.org/wiki/Communicative_ecology', 'https://en.wikipedia.org/wiki/Complex_network', 'https://en.wikipedia.org/wiki/Core-periphery_structure', 'https://en.wikipedia.org/wiki/Dual-phase_evolution', 'https://en.wikipedia.org/wiki/Erd%C5%91s%E2%80%93R%C3%A9nyi_model', 'https://en.wikipedia.org/wiki/Glossary_of_graph_theory', 'https://en.wikipedia.org/wiki/Gradient_network', 'https://en.wikipedia.org/wiki/Higher_category_theory', 'https://en.wikipedia.org/wiki/Immune_network_theory', 'https://en.wikipedia.org/wiki/Irregular_warfare', 'https://en.wikipedia.org/wiki/Interdependent_networks', 'https://en.wikipedia.org/wiki/Network_management', 'https://en.wikipedia.org/wiki/Network_dynamics', 'https://en.wikipedia.org/wiki/Network_formation', 'https://en.wikipedia.org/wiki/Network_theory_in_risk_assessment', 'https://en.wikipedia.org/wiki/Network_topology', 'https://en.wikipedia.org/wiki/Networks_in_labor_economics', 'https://en.wikipedia.org/wiki/Non-linear_preferential_attachment', 'https://en.wikipedia.org/wiki/Percolation', 'https://en.wikipedia.org/wiki/Percolation_theory', 'https://en.wikipedia.org/wiki/Policy_network_analysis', 'https://en.wikipedia.org/wiki/Polytely', 'https://en.wikipedia.org/wiki/Quantum_complex_network', 'https://en.wikipedia.org/wiki/Random_networks', 'https://en.wikipedia.org/wiki/Rumor_spread_in_social_network', 'https://en.wikipedia.org/wiki/Scale-free_networks', 'https://en.wikipedia.org/wiki/Sequential_dynamical_system', 'https://en.wikipedia.org/wiki/Service_network', 'https://en.wikipedia.org/wiki/Small-world_networks', 'https://en.wikipedia.org/wiki/Structural_cut-off', 'https://en.wikipedia.org/wiki/Systems_theory']\n"
     ]
    }
   ],
   "source": [
    "import urllib.request\n",
    "from bs4 import BeautifulSoup\n",
    "import requests\n",
    "\n",
    "pages = []\n",
    "\n",
    "url = \"https://en.wikipedia.org/wiki/Network_science\"\n",
    "req = urllib.request.Request(url)\n",
    "sourcecode = urllib.request.urlopen(url).read()\n",
    "soup = BeautifulSoup(sourcecode, \"html.parser\")\n",
    "\n",
    "for href in soup.find(\"div\", class_ =\"div-col\").find_all(\"li\"):\n",
    "    pages.append(\"https://en.wikipedia.org\"+href.find(\"a\")[\"href\"])\n",
    "\n",
    "print(pages)"
   ]
  },
  {
   "cell_type": "code",
   "execution_count": 98,
   "metadata": {},
   "outputs": [],
   "source": [
    "def get_html(url):\n",
    "    html = \"\"\n",
    "    resp = requests.get(url)\n",
    "    \n",
    "    if resp.status_code == 200:\n",
    "        html = resp.text\n",
    "    return html"
   ]
  },
  {
   "cell_type": "code",
   "execution_count": 123,
   "metadata": {},
   "outputs": [],
   "source": [
    "import re\n",
    "\n",
    "def crawl_div_col(html):\n",
    "    \n",
    "    soup = BeautifulSoup(html)\n",
    "    \n",
    "    li_list = soup.select(\"div.div-col > ul > li > a\")\n",
    "    text = re.sub('<.+?>', '', str(li_list), 0).strip()\n",
    "    \n",
    "    return text"
   ]
  },
  {
   "cell_type": "code",
   "execution_count": 136,
   "metadata": {},
   "outputs": [],
   "source": [
    "def crawl_mw_parser_output(html):\n",
    "    \n",
    "    soup = BeautifulSoup(html)\n",
    "    \n",
    "    li_list = soup.select(\"div.mw-parser-output > ul > li > a\")\n",
    "    text = re.sub('<.+?>', '', str(li_list), 0).strip()\n",
    "    \n",
    "    return text"
   ]
  },
  {
   "cell_type": "code",
   "execution_count": 124,
   "metadata": {},
   "outputs": [],
   "source": [
    "div_col = []\n",
    "\n",
    "for i in range(0, len(pages)-1):\n",
    "    html = get_html(pages[i])\n",
    "    div_col.append(crawl_div_col(html))"
   ]
  },
  {
   "cell_type": "code",
   "execution_count": 125,
   "metadata": {},
   "outputs": [
    {
     "name": "stdout",
     "output_type": "stream",
     "text": [
      "['[Blackouts, Brittle system, Butterfly effect, Byzantine failure, Cascading rollback, Chain reaction, Chaos theory, Cache stampede, Congestion collapse, Domino effect, For Want of a Nail (proverb), Network science, Network theory, Interdependent networks, Kessler Syndrome, Percolation theory, Progressive collapse, Virtuous circle and vicious circle, Wicked problem]', '[]', '[]', '[]', '[Community structure, Complex adaptive system, Complex systems, Dual-phase evolution, Dynamic network analysis, Interdependent networks, Network theory, Network science, Percolation theory, Random graph, Random graph theory of gelation, Scale-free networks, Small world networks, Spatial network, Trophic coherence]', '[]', '[]', '[]', '[]', '[]', '[]', '[]', '[Civilian casualty ratio, Endemic warfare, Fourth-generation warfare, Hague Conventions (1899 and 1907), Information warfare, Irregular military, Low-intensity conflict, Political warfare, Psychological operations, The Troubles, War on Terror, War on Drugs]', '[]', '[Application service management, Business service management, Capacity management, Comparison of network monitoring systems, FCAPS, In-network management, ITIL, Integrated business planning, Network and service management taxonomy, Network monitoring, Network traffic measurement, Out-of-band management, Systems management, Website monitoring]', '[Biological network inference, Cellular neural network, Dual-phase evolution, Dynamic Bayesian network, Dynamic network analysis, Dynamic single-frequency networks, Gaussian network model, Gene regulatory network, Gradient network, Network planning and design, Neural network, Neurodynamics, Small-world network, Technology Dynamics]', '[]', '[]', '[Broadcast communication network, Butterfly network, Computer network diagram, Gradient network, Internet topology, Network simulation, Relay network, Rhizome (philosophy), Scale-free network, Shared mesh, Switched communication network, Switched mesh]', '[]', '[]', '[Branched polymer, Conductance, Critical exponents, Fragmentation, Gelation, Giant component, Groundwater recharge, Immunization, Network theory, Percolation critical exponents, Percolation theory, Percolation threshold, Polymerization, Self-organization, Self-organized criticality, Septic tank, Supercooled water, Water pipe percolator]', '[Continuum percolation theory, Critical exponent, Directed percolation, Erdős–Rényi model, Fractal, Giant component, Graph theory, Interdependent networks, Invasion percolation, Kahn–Kalai conjecture, Network theory, Network science, Percolation threshold, Percolation critical exponents, Scale-free network, Shortest path problem]', '[]', '[Cognitive science, Concurrent computing, Dietrich Dörner, Game theory, Goal-oriented, Multi-agent system, Multi-criteria decision analysis, Multiobjective optimization, Network science, Organizational studies, Outcome (game theory), Polycentric law, Polychotomy, Problem solving, Systems theory, Telos]', '[]', '[]', '[]', '[]', '[]', '[]', '[]', '[]']\n"
     ]
    }
   ],
   "source": [
    "print(div_col) # div.div-col에 해당되는 데이터만 가져와진다."
   ]
  },
  {
   "cell_type": "code",
   "execution_count": 137,
   "metadata": {},
   "outputs": [],
   "source": [
    "mw_parser_output = []\n",
    "\n",
    "for i in range(0, len(pages)-1):\n",
    "    html = get_html(pages[i])\n",
    "    mw_parser_output.append(crawl_mw_parser_output(html))"
   ]
  },
  {
   "cell_type": "code",
   "execution_count": 138,
   "metadata": {},
   "outputs": [
    {
     "data": {
      "text/plain": [
       "'[Collective intelligence, Polytely, Swarm intelligence, Open politics, Symbolic interactionism, Commons-based peer production, Community of practice, ISBN, 0-19-530412-8, ISBN, 0-8144-7386-5, Geographical proximity and innovation: Evidences from the Campos Basin oil &amp; gas industrial agglomeration — Brazil, artivate.hida.asu.edu/index.php/artivate/article/download/82/36, fido (\\'fearless innovation designed online\\') - collaborative innovation system, Ethical Issues in Collaborative Innovation Networks, Fillia Makedon, \"Advances in Interdisciplinary Studies of Work Teams\", \"Transforming Government Through Collaborative Innovation\", \"The Future of Work\", \"Global University System with Globally Collaborative Innovation Network\", \"Network Plasticity and Collaborative Innovation\", \"Performance Based Integrated Innovation Management System\" proposal]'"
      ]
     },
     "execution_count": 138,
     "metadata": {},
     "output_type": "execute_result"
    }
   ],
   "source": [
    "mw_parser_output[2]"
   ]
  },
  {
   "cell_type": "markdown",
   "metadata": {},
   "source": [
    "### 2번째 열 데이터 "
   ]
  },
  {
   "cell_type": "code",
   "execution_count": 110,
   "metadata": {},
   "outputs": [],
   "source": [
    "from urllib.request import urlopen\n",
    "from bs4 import BeautifulSoup\n",
    "\n",
    "html = urlopen(\"https://en.wikipedia.org/wiki/Network_science\")\n",
    "\n",
    "bsobject = BeautifulSoup(html, \"html.parser\") # html 정보 가져오기"
   ]
  },
  {
   "cell_type": "code",
   "execution_count": 111,
   "metadata": {},
   "outputs": [
    {
     "name": "stdout",
     "output_type": "stream",
     "text": [
      "['Cascading failure', 'Climate as complex networks', 'Collaborative innovation network', 'Communicative ecology', 'Complex network', 'Core-periphery structures in networks', 'Dual-phase evolution', 'Erdős–Rényi model', 'Glossary of graph theory', 'Gradient network', 'Higher category theory', 'Immune network theory', 'Irregular warfare', 'Interdependent networks', 'Network analyzer', 'Network dynamics', 'Network formation', 'Network theory in risk assessment', 'Network topology', 'Networks in labor economics', 'Non-linear preferential attachment', 'Percolation', 'Percolation theory', 'Policy network analysis', 'Polytely', 'Quantum complex network', 'Random networks', 'Rumor spread in social network', 'Scale-free networks', 'Sequential dynamical system', 'Service network', 'Small-world networks', 'Structural cut-off']\n"
     ]
    }
   ],
   "source": [
    "li_code = bsobject.select('div.div-col>ul>li')\n",
    "\n",
    "ulli_total = []\n",
    "\n",
    "for c in range(0,len(li_code)-1):\n",
    "    ulli_total.append(li_code[c].get_text())\n",
    "\n",
    "print(ulli_total)"
   ]
  },
  {
   "cell_type": "code",
   "execution_count": null,
   "metadata": {},
   "outputs": [],
   "source": []
  }
 ],
 "metadata": {
  "kernelspec": {
   "display_name": "Python 3.9.13 ('base')",
   "language": "python",
   "name": "python3"
  },
  "language_info": {
   "codemirror_mode": {
    "name": "ipython",
    "version": 3
   },
   "file_extension": ".py",
   "mimetype": "text/x-python",
   "name": "python",
   "nbconvert_exporter": "python",
   "pygments_lexer": "ipython3",
   "version": "3.9.13"
  },
  "orig_nbformat": 4,
  "vscode": {
   "interpreter": {
    "hash": "43af7393c8e3bb0730eb35f197fc5ab4355397fc73467075a0f020e747dbc619"
   }
  }
 },
 "nbformat": 4,
 "nbformat_minor": 2
}
